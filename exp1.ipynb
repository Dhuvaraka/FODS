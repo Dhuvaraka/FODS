{
 "cells": [
  {
   "cell_type": "code",
   "execution_count": 1,
   "id": "3c1310d1-5f21-4a2d-8ec9-5b75c32fbfa4",
   "metadata": {},
   "outputs": [],
   "source": [
    "import pandas as pd"
   ]
  },
  {
   "cell_type": "code",
   "execution_count": 3,
   "id": "fd0abf33-97f4-4b94-a299-ebc0f2f19b35",
   "metadata": {},
   "outputs": [
    {
     "ename": "SyntaxError",
     "evalue": "closing parenthesis '}' does not match opening parenthesis '[' on line 3 (1112570945.py, line 4)",
     "output_type": "error",
     "traceback": [
      "\u001b[1;36m  Cell \u001b[1;32mIn[3], line 4\u001b[1;36m\u001b[0m\n\u001b[1;33m    Salary: [50000, 60000, 55000, 65000, 58000]}])\u001b[0m\n\u001b[1;37m                                               ^\u001b[0m\n\u001b[1;31mSyntaxError\u001b[0m\u001b[1;31m:\u001b[0m closing parenthesis '}' does not match opening parenthesis '[' on line 3\n"
     ]
    }
   ],
   "source": [
    "df1=pd.DataFrame([{EmployeeID: [101, 102, 103, 104, 105],\n",
    "Name: [&#39;Alice&#39;, &#39;Bob&#39;, &#39;Charlie&#39;, &#39;David&#39;, &#39;Eva&#39;],\n",
    "Department: [&#39;HR&#39;, &#39;IT&#39;, &#39;Finance&#39;, &#39;IT&#39;, &#39;HR&#39;],\n",
    "Salary: [50000, 60000, 55000, 65000, 58000]}])"
   ]
  },
  {
   "cell_type": "code",
   "execution_count": 5,
   "id": "9194e4ff-703a-4819-bb8f-70bc752f10b3",
   "metadata": {},
   "outputs": [
    {
     "ename": "SyntaxError",
     "evalue": "closing parenthesis ')' does not match opening parenthesis '[' on line 3 (2885469936.py, line 4)",
     "output_type": "error",
     "traceback": [
      "\u001b[1;36m  Cell \u001b[1;32mIn[5], line 4\u001b[1;36m\u001b[0m\n\u001b[1;33m    Salary: [50000, 60000, 55000, 65000, 58000])\u001b[0m\n\u001b[1;37m                                               ^\u001b[0m\n\u001b[1;31mSyntaxError\u001b[0m\u001b[1;31m:\u001b[0m closing parenthesis ')' does not match opening parenthesis '[' on line 3\n"
     ]
    }
   ],
   "source": [
    "df1=pd.DataFrame(EmployeeID: [101, 102, 103, 104, 105],\n",
    "Name: [&#39;Alice&#39;, &#39;Bob&#39;, &#39;Charlie&#39;, &#39;David&#39;, &#39;Eva&#39;],\n",
    "Department: [&#39;HR&#39;, &#39;IT&#39;, &#39;Finance&#39;, &#39;IT&#39;, &#39;HR&#39;],\n",
    "Salary: [50000, 60000, 55000, 65000, 58000])"
   ]
  },
  {
   "cell_type": "code",
   "execution_count": 9,
   "id": "92936fff-658d-4674-a1c9-d6f412b91899",
   "metadata": {},
   "outputs": [],
   "source": [
    "df=pd.DataFrame({'EmployeeID': [101, 102, 103, 104, 105],'Name': ['Alice', 'Bob', 'Charlie', 'David', 'Eva'],'Department': ['HR', 'IT', 'Finance', 'IT', 'HR'],'Salary': [50000, 60000, 55000, 65000, 58000]})"
   ]
  },
  {
   "cell_type": "code",
   "execution_count": 11,
   "id": "d71f6ac4-14c2-4295-9898-a4b2e3d96c93",
   "metadata": {},
   "outputs": [
    {
     "data": {
      "text/html": [
       "<div>\n",
       "<style scoped>\n",
       "    .dataframe tbody tr th:only-of-type {\n",
       "        vertical-align: middle;\n",
       "    }\n",
       "\n",
       "    .dataframe tbody tr th {\n",
       "        vertical-align: top;\n",
       "    }\n",
       "\n",
       "    .dataframe thead th {\n",
       "        text-align: right;\n",
       "    }\n",
       "</style>\n",
       "<table border=\"1\" class=\"dataframe\">\n",
       "  <thead>\n",
       "    <tr style=\"text-align: right;\">\n",
       "      <th></th>\n",
       "      <th>EmployeeID</th>\n",
       "      <th>Name</th>\n",
       "      <th>Department</th>\n",
       "      <th>Salary</th>\n",
       "    </tr>\n",
       "  </thead>\n",
       "  <tbody>\n",
       "    <tr>\n",
       "      <th>0</th>\n",
       "      <td>101</td>\n",
       "      <td>Alice</td>\n",
       "      <td>HR</td>\n",
       "      <td>50000</td>\n",
       "    </tr>\n",
       "    <tr>\n",
       "      <th>1</th>\n",
       "      <td>102</td>\n",
       "      <td>Bob</td>\n",
       "      <td>IT</td>\n",
       "      <td>60000</td>\n",
       "    </tr>\n",
       "    <tr>\n",
       "      <th>2</th>\n",
       "      <td>103</td>\n",
       "      <td>Charlie</td>\n",
       "      <td>Finance</td>\n",
       "      <td>55000</td>\n",
       "    </tr>\n",
       "    <tr>\n",
       "      <th>3</th>\n",
       "      <td>104</td>\n",
       "      <td>David</td>\n",
       "      <td>IT</td>\n",
       "      <td>65000</td>\n",
       "    </tr>\n",
       "    <tr>\n",
       "      <th>4</th>\n",
       "      <td>105</td>\n",
       "      <td>Eva</td>\n",
       "      <td>HR</td>\n",
       "      <td>58000</td>\n",
       "    </tr>\n",
       "  </tbody>\n",
       "</table>\n",
       "</div>"
      ],
      "text/plain": [
       "   EmployeeID     Name Department  Salary\n",
       "0         101    Alice         HR   50000\n",
       "1         102      Bob         IT   60000\n",
       "2         103  Charlie    Finance   55000\n",
       "3         104    David         IT   65000\n",
       "4         105      Eva         HR   58000"
      ]
     },
     "execution_count": 11,
     "metadata": {},
     "output_type": "execute_result"
    }
   ],
   "source": [
    "df"
   ]
  },
  {
   "cell_type": "code",
   "execution_count": 15,
   "id": "c15f978a-932f-4f25-9d28-e7da9f67df04",
   "metadata": {},
   "outputs": [
    {
     "name": "stdout",
     "output_type": "stream",
     "text": [
      "      Name  Salary\n",
      "0    Alice   50000\n",
      "1      Bob   60000\n",
      "2  Charlie   55000\n",
      "3    David   65000\n",
      "4      Eva   58000\n"
     ]
    }
   ],
   "source": [
    "print(df[['Name', 'Salary']])\n"
   ]
  },
  {
   "cell_type": "code",
   "execution_count": 21,
   "id": "6ce3e8c7-a54c-442b-b216-5f720964a259",
   "metadata": {},
   "outputs": [
    {
     "name": "stdout",
     "output_type": "stream",
     "text": [
      "62500.0\n"
     ]
    }
   ],
   "source": [
    "salary = df[df['Department'] == 'IT']['Salary']\n",
    "avg_salary = salary.mean()\n",
    "print(avg_salary)\n"
   ]
  },
  {
   "cell_type": "code",
   "execution_count": 25,
   "id": "55c3d22c-2953-4f73-9e39-fa0e662be22a",
   "metadata": {},
   "outputs": [
    {
     "name": "stdout",
     "output_type": "stream",
     "text": [
      "   EmployeeID     Name Department  Salary   Bonus\n",
      "0         101    Alice         HR   50000  5000.0\n",
      "1         102      Bob         IT   60000  6000.0\n",
      "2         103  Charlie    Finance   55000  5500.0\n",
      "3         104    David         IT   65000  6500.0\n",
      "4         105      Eva         HR   58000  5800.0\n"
     ]
    }
   ],
   "source": [
    "df['Bonus'] = df['Salary'] * 0.10\n",
    "print(df)\n"
   ]
  },
  {
   "cell_type": "code",
   "execution_count": 27,
   "id": "bb574b11-b60a-47b4-8c77-520e581e1854",
   "metadata": {},
   "outputs": [
    {
     "name": "stdout",
     "output_type": "stream",
     "text": [
      "    ID     Name Department  Salary   Bonus\n",
      "0  101    Alice         HR   50000  5000.0\n",
      "1  102      Bob         IT   60000  6000.0\n",
      "2  103  Charlie    Finance   55000  5500.0\n",
      "3  104    David         IT   65000  6500.0\n",
      "4  105      Eva         HR   58000  5800.0\n"
     ]
    }
   ],
   "source": [
    "df.rename(columns={'EmployeeID': 'ID'}, inplace=True)\n",
    "print(df)\n"
   ]
  },
  {
   "cell_type": "code",
   "execution_count": 29,
   "id": "527ea145-f3bb-480e-a875-3ba08d1dbdbe",
   "metadata": {},
   "outputs": [
    {
     "name": "stdout",
     "output_type": "stream",
     "text": [
      "    ID     Name  Salary   Bonus\n",
      "0  101    Alice   50000  5000.0\n",
      "1  102      Bob   60000  6000.0\n",
      "2  103  Charlie   55000  5500.0\n",
      "3  104    David   65000  6500.0\n",
      "4  105      Eva   58000  5800.0\n"
     ]
    }
   ],
   "source": [
    "df.drop(columns=['Department'], inplace=True)\n",
    "print(df)\n"
   ]
  },
  {
   "cell_type": "code",
   "execution_count": 85,
   "id": "f863dff0-aa6b-450c-8715-5ddc4dad1bee",
   "metadata": {},
   "outputs": [],
   "source": [
    "sales = pd.DataFrame({\n",
    "    'Month': ['Jan', 'Feb', 'Mar', 'Apr', 'May'],\n",
    "    'Product_A': [150, 200, 250, 300, 350],\n",
    "    'Product_B': [300, 250, 200, 150, 100]\n",
    "})\n"
   ]
  },
  {
   "cell_type": "code",
   "execution_count": 87,
   "id": "247b1d92-4b3a-4102-b575-3a9fe6f9d8ae",
   "metadata": {},
   "outputs": [
    {
     "data": {
      "text/html": [
       "<div>\n",
       "<style scoped>\n",
       "    .dataframe tbody tr th:only-of-type {\n",
       "        vertical-align: middle;\n",
       "    }\n",
       "\n",
       "    .dataframe tbody tr th {\n",
       "        vertical-align: top;\n",
       "    }\n",
       "\n",
       "    .dataframe thead th {\n",
       "        text-align: right;\n",
       "    }\n",
       "</style>\n",
       "<table border=\"1\" class=\"dataframe\">\n",
       "  <thead>\n",
       "    <tr style=\"text-align: right;\">\n",
       "      <th></th>\n",
       "      <th>Month</th>\n",
       "      <th>Product_A</th>\n",
       "      <th>Product_B</th>\n",
       "    </tr>\n",
       "  </thead>\n",
       "  <tbody>\n",
       "    <tr>\n",
       "      <th>0</th>\n",
       "      <td>Jan</td>\n",
       "      <td>150</td>\n",
       "      <td>300</td>\n",
       "    </tr>\n",
       "    <tr>\n",
       "      <th>1</th>\n",
       "      <td>Feb</td>\n",
       "      <td>200</td>\n",
       "      <td>250</td>\n",
       "    </tr>\n",
       "    <tr>\n",
       "      <th>2</th>\n",
       "      <td>Mar</td>\n",
       "      <td>250</td>\n",
       "      <td>200</td>\n",
       "    </tr>\n",
       "    <tr>\n",
       "      <th>3</th>\n",
       "      <td>Apr</td>\n",
       "      <td>300</td>\n",
       "      <td>150</td>\n",
       "    </tr>\n",
       "    <tr>\n",
       "      <th>4</th>\n",
       "      <td>May</td>\n",
       "      <td>350</td>\n",
       "      <td>100</td>\n",
       "    </tr>\n",
       "  </tbody>\n",
       "</table>\n",
       "</div>"
      ],
      "text/plain": [
       "  Month  Product_A  Product_B\n",
       "0   Jan        150        300\n",
       "1   Feb        200        250\n",
       "2   Mar        250        200\n",
       "3   Apr        300        150\n",
       "4   May        350        100"
      ]
     },
     "execution_count": 87,
     "metadata": {},
     "output_type": "execute_result"
    }
   ],
   "source": [
    "sales"
   ]
  },
  {
   "cell_type": "code",
   "execution_count": 91,
   "id": "65d91d77-7405-4ea2-b93e-e9ce52df04eb",
   "metadata": {},
   "outputs": [
    {
     "name": "stdout",
     "output_type": "stream",
     "text": [
      "Total Sales for Product_A: 1250\n",
      "Total Sales for Product_B: 1000\n"
     ]
    }
   ],
   "source": [
    "total_sales_product_a = sales['Product_A'].sum()\n",
    "total_sales_product_b = sales['Product_B'].sum()\n",
    "print('Total Sales for Product_A:', total_sales_product_a)\n",
    "print('Total Sales for Product_B:', total_sales_product_b)\n"
   ]
  },
  {
   "cell_type": "code",
   "execution_count": 77,
   "id": "5036b561-72da-46b3-987f-a70bdf63a5ab",
   "metadata": {},
   "outputs": [
    {
     "name": "stdout",
     "output_type": "stream",
     "text": [
      "Month with highest sales for Product_A: May\n"
     ]
    }
   ],
   "source": [
    "month_max_sales_a = sales.loc[sales['Product_A'].idxmax(), 'Month']\n",
    "print('Month with highest sales for Product_A:', month_max_sales_a)\n"
   ]
  },
  {
   "cell_type": "code",
   "execution_count": 93,
   "id": "77ae1e07-1d8c-4e0d-b995-311a066b55af",
   "metadata": {},
   "outputs": [
    {
     "name": "stdout",
     "output_type": "stream",
     "text": [
      "  Month  Product_A  Product_B  Total_Sales\n",
      "0   Jan        150        300          450\n",
      "1   Feb        200        250          450\n",
      "2   Mar        250        200          450\n",
      "3   Apr        300        150          450\n",
      "4   May        350        100          450\n"
     ]
    }
   ],
   "source": [
    "sales['Total_Sales'] = sales['Product_A'] + sales['Product_B']\n",
    "print(sales)\n"
   ]
  },
  {
   "cell_type": "code",
   "execution_count": 95,
   "id": "2779930f-96b4-4a0f-a334-8ec9093aab39",
   "metadata": {},
   "outputs": [
    {
     "name": "stdout",
     "output_type": "stream",
     "text": [
      "  Month  Product_A  Product_B  Total_Sales  Product_A_Normalized\n",
      "0   Jan        150        300          450              0.428571\n",
      "1   Feb        200        250          450              0.571429\n",
      "2   Mar        250        200          450              0.714286\n",
      "3   Apr        300        150          450              0.857143\n",
      "4   May        350        100          450              1.000000\n"
     ]
    }
   ],
   "source": [
    "sales['Product_A_Normalized'] = sales['Product_A'] / sales['Product_A'].max()\n",
    "print(sales)\n"
   ]
  },
  {
   "cell_type": "code",
   "execution_count": 97,
   "id": "6d0fefea-80c0-4c7d-967b-3ac948efec1c",
   "metadata": {},
   "outputs": [
    {
     "name": "stdout",
     "output_type": "stream",
     "text": [
      "  Month  Product_A  Product_B  Total_Sales  Product_A_Normalized\n",
      "0   Jan        150        300          450              0.428571\n",
      "1   Feb        200        250          450              0.571429\n",
      "2   Mar        250        200          450              0.714286\n",
      "3   Apr        300        150          450              0.857143\n",
      "4   May        350        100          450              1.000000\n"
     ]
    }
   ],
   "source": [
    "filtered_data = sales[sales['Total_Sales'] > 400]\n",
    "print(filtered_data)\n"
   ]
  },
  {
   "cell_type": "code",
   "execution_count": 99,
   "id": "3cf90317-3f21-4eb5-9483-97fe358c0ed8",
   "metadata": {},
   "outputs": [],
   "source": [
    "customer_data = pd.DataFrame({\n",
    "    'CustomerID': [1, 2, 3, 4, 5],\n",
    "    'Name': ['John', 'Jane', None, 'Alice', 'Bob'],\n",
    "    'Purchase': [200, 300, 150, None, 500]\n",
    "})\n"
   ]
  },
  {
   "cell_type": "code",
   "execution_count": 101,
   "id": "d6e27207-f7e9-4fbd-ac13-9bdd5dfa7799",
   "metadata": {},
   "outputs": [
    {
     "name": "stdout",
     "output_type": "stream",
     "text": [
      "CustomerID    0\n",
      "Name          1\n",
      "Purchase      1\n",
      "dtype: int64\n"
     ]
    }
   ],
   "source": [
    "missing_values = customer_data.isna().sum()\n",
    "print(missing_values)\n"
   ]
  },
  {
   "cell_type": "code",
   "execution_count": 105,
   "id": "b7d5fe14-1331-4d9e-9f8c-050e8137cabe",
   "metadata": {},
   "outputs": [
    {
     "name": "stdout",
     "output_type": "stream",
     "text": [
      "   CustomerID     Name  Purchase\n",
      "0           1     John     200.0\n",
      "1           2     Jane     300.0\n",
      "2           3  Unknown     150.0\n",
      "3           4    Alice       NaN\n",
      "4           5      Bob     500.0\n"
     ]
    }
   ],
   "source": [
    "customer_data['Name'].fillna('Unknown')\n",
    "print(customer_data)\n"
   ]
  },
  {
   "cell_type": "code",
   "execution_count": 109,
   "id": "9d21c1cb-112a-4aa8-a90e-71b04cf04938",
   "metadata": {},
   "outputs": [
    {
     "name": "stdout",
     "output_type": "stream",
     "text": [
      "   CustomerID     Name  Purchase\n",
      "0           1     John     200.0\n",
      "1           2     Jane     300.0\n",
      "2           3  Unknown     150.0\n",
      "3           4    Alice     250.0\n",
      "4           5      Bob     500.0\n"
     ]
    }
   ],
   "source": [
    "median_purchase = customer_data['Purchase'].median()\n",
    "customer_data['Purchase'].fillna(median_purchase)\n",
    "print(customer_data)\n"
   ]
  },
  {
   "cell_type": "code",
   "execution_count": 111,
   "id": "ffe260e8-4e31-4d54-9ac1-97ccd6014b38",
   "metadata": {},
   "outputs": [
    {
     "name": "stdout",
     "output_type": "stream",
     "text": [
      "   CustomerID     Name  Purchase\n",
      "0           1     John     200.0\n",
      "1           2     Jane     300.0\n",
      "2           3  Unknown     150.0\n",
      "3           4    Alice     250.0\n",
      "4           5      Bob     500.0\n"
     ]
    }
   ],
   "source": [
    "customer_data.dropna(inplace=True)\n",
    "print(customer_data)\n"
   ]
  },
  {
   "cell_type": "code",
   "execution_count": 113,
   "id": "1650fbe0-9326-4a0c-9d2b-9066b170d319",
   "metadata": {},
   "outputs": [
    {
     "name": "stdout",
     "output_type": "stream",
     "text": [
      "   CustomerID  Name  Purchase\n",
      "1           2  Jane     300.0\n",
      "4           5   Bob     500.0\n"
     ]
    }
   ],
   "source": [
    "median_purchase = customer_data['Purchase'].median()\n",
    "high_value_customers = customer_data[customer_data['Purchase'] > median_purchase]\n",
    "print(high_value_customers)\n"
   ]
  },
  {
   "cell_type": "code",
   "execution_count": 115,
   "id": "5d06eeec-0456-4280-bf65-9294d20ba36c",
   "metadata": {},
   "outputs": [],
   "source": [
    "temperature = pd.Series([23, 21, 20, 25, 27, 30, 28, 22, 24, 26])\n"
   ]
  },
  {
   "cell_type": "code",
   "execution_count": 117,
   "id": "5569f7ec-87e8-48b2-b607-6ebc1622f361",
   "metadata": {},
   "outputs": [
    {
     "data": {
      "text/plain": [
       "0    23\n",
       "1    21\n",
       "2    20\n",
       "3    25\n",
       "4    27\n",
       "5    30\n",
       "6    28\n",
       "7    22\n",
       "8    24\n",
       "9    26\n",
       "dtype: int64"
      ]
     },
     "execution_count": 117,
     "metadata": {},
     "output_type": "execute_result"
    }
   ],
   "source": [
    "temperature"
   ]
  },
  {
   "cell_type": "code",
   "execution_count": 119,
   "id": "86c94f62-1af6-408b-9282-5ca8493cd7b7",
   "metadata": {},
   "outputs": [
    {
     "name": "stdout",
     "output_type": "stream",
     "text": [
      "Mean: 24.6\n",
      "Median: 24.5\n",
      "Variance: 10.266666666666666\n"
     ]
    }
   ],
   "source": [
    "mean_temp = temperature.mean()\n",
    "median_temp = temperature.median()\n",
    "variance_temp = temperature.var()\n",
    "print('Mean:', mean_temp)\n",
    "print('Median:', median_temp)\n",
    "print('Variance:', variance_temp)\n"
   ]
  },
  {
   "cell_type": "code",
   "execution_count": 121,
   "id": "81085abc-a1be-43d4-adeb-b745f62197c3",
   "metadata": {},
   "outputs": [
    {
     "name": "stdout",
     "output_type": "stream",
     "text": [
      "0    Below\n",
      "1    Below\n",
      "2    Below\n",
      "3    Above\n",
      "4    Above\n",
      "5    Above\n",
      "6    Above\n",
      "7    Below\n",
      "8    Below\n",
      "9    Above\n",
      "dtype: object\n"
     ]
    }
   ],
   "source": [
    "above_below_mean = temperature.apply(lambda x: 'Above' if x > mean_temp else 'Below')\n",
    "print(above_below_mean)\n"
   ]
  },
  {
   "cell_type": "code",
   "execution_count": 123,
   "id": "48efedc4-fb09-4e39-9fb7-7c9d0a9cd870",
   "metadata": {},
   "outputs": [
    {
     "name": "stdout",
     "output_type": "stream",
     "text": [
      "0    296.15\n",
      "1    294.15\n",
      "2    293.15\n",
      "3    298.15\n",
      "4    300.15\n",
      "5    303.15\n",
      "6    301.15\n",
      "7    295.15\n",
      "8    297.15\n",
      "9    299.15\n",
      "dtype: float64\n"
     ]
    }
   ],
   "source": [
    "temperature_kelvin = temperature + 273.15\n",
    "print(temperature_kelvin)\n"
   ]
  },
  {
   "cell_type": "code",
   "execution_count": 125,
   "id": "9a540509-dad7-4657-9e38-8ccbca532275",
   "metadata": {},
   "outputs": [
    {
     "name": "stdout",
     "output_type": "stream",
     "text": [
      "0          NaN\n",
      "1          NaN\n",
      "2    21.333333\n",
      "3    22.000000\n",
      "4    24.000000\n",
      "5    27.333333\n",
      "6    28.333333\n",
      "7    26.666667\n",
      "8    24.666667\n",
      "9    24.000000\n",
      "dtype: float64\n"
     ]
    }
   ],
   "source": [
    "rolling_mean = temperature.rolling(window=3).mean()\n",
    "print(rolling_mean)\n"
   ]
  },
  {
   "cell_type": "code",
   "execution_count": 127,
   "id": "0958225d-cfea-4e48-8707-a5eed0879ee8",
   "metadata": {},
   "outputs": [
    {
     "name": "stdout",
     "output_type": "stream",
     "text": [
      "1    21\n",
      "2    20\n",
      "5    30\n",
      "6    28\n",
      "dtype: int64\n"
     ]
    }
   ],
   "source": [
    "std_dev = temperature.std()\n",
    "filtered_temps = temperature[(temperature < mean_temp - std_dev) | (temperature > mean_temp + std_dev)]\n",
    "print(filtered_temps)\n"
   ]
  },
  {
   "cell_type": "code",
   "execution_count": 129,
   "id": "dc400ee1-144c-44c5-8a87-d9d9f746eee2",
   "metadata": {},
   "outputs": [],
   "source": [
    "orders = pd.DataFrame({\n",
    "    'OrderID': [1, 2, 3, 4, 5],\n",
    "    'CustomerID': [101, 102, 103, 104, 101],\n",
    "    'Product': ['A', 'B', 'A', 'C', 'B'],\n",
    "    'Quantity': [2, 1, 4, 2, 3]\n",
    "})\n",
    "\n",
    "customers = pd.DataFrame({\n",
    "    'CustomerID': [101, 102, 103, 104],\n",
    "    'Name': ['Alice', 'Bob', 'Charlie', 'David'],\n",
    "    'Location': ['New York', 'Los Angeles', 'Chicago', 'Houston']\n",
    "})\n"
   ]
  },
  {
   "cell_type": "code",
   "execution_count": 131,
   "id": "cffc8a4d-e40f-4845-b66f-fb7425f7296c",
   "metadata": {},
   "outputs": [
    {
     "name": "stdout",
     "output_type": "stream",
     "text": [
      "   OrderID  CustomerID Product  Quantity     Name     Location\n",
      "0        1         101       A         2    Alice     New York\n",
      "1        2         102       B         1      Bob  Los Angeles\n",
      "2        3         103       A         4  Charlie      Chicago\n",
      "3        4         104       C         2    David      Houston\n",
      "4        5         101       B         3    Alice     New York\n"
     ]
    }
   ],
   "source": [
    "merged_df = pd.merge(orders, customers, on='CustomerID')\n",
    "print(merged_df)\n"
   ]
  },
  {
   "cell_type": "code",
   "execution_count": 133,
   "id": "b8d3aed9-ed95-453e-a732-e70cab9f5e13",
   "metadata": {},
   "outputs": [
    {
     "name": "stdout",
     "output_type": "stream",
     "text": [
      "Location\n",
      "Chicago        4\n",
      "Houston        2\n",
      "Los Angeles    1\n",
      "New York       5\n",
      "Name: Quantity, dtype: int64\n"
     ]
    }
   ],
   "source": [
    "quantity_by_location = merged_df.groupby('Location')['Quantity'].sum()\n",
    "print(quantity_by_location)\n"
   ]
  },
  {
   "cell_type": "code",
   "execution_count": 135,
   "id": "b4da0797-ac9d-4c74-bc92-35c096e85dc1",
   "metadata": {},
   "outputs": [
    {
     "name": "stdout",
     "output_type": "stream",
     "text": [
      "   CustomerID   Name  Location\n",
      "0         101  Alice  New York\n"
     ]
    }
   ],
   "source": [
    "orders_count = merged_df['CustomerID'].value_counts()\n",
    "top_customer_id = orders_count.idxmax()\n",
    "top_customer = customers[customers['CustomerID'] == top_customer_id]\n",
    "print(top_customer)\n"
   ]
  },
  {
   "cell_type": "code",
   "execution_count": 137,
   "id": "221d58f0-a2ef-42c7-837b-77faa73f07ab",
   "metadata": {},
   "outputs": [
    {
     "name": "stdout",
     "output_type": "stream",
     "text": [
      "   OrderID  CustomerID Product  Quantity     Name     Location  Total_Quantity\n",
      "0        1         101       A         2    Alice     New York               2\n",
      "1        2         102       B         1      Bob  Los Angeles               1\n",
      "2        3         103       A         4  Charlie      Chicago               6\n",
      "3        4         104       C         2    David      Houston               2\n",
      "4        5         101       B         3    Alice     New York               4\n"
     ]
    }
   ],
   "source": [
    "merged_df['Total_Quantity'] = merged_df.groupby('Product')['Quantity'].cumsum()\n",
    "print(merged_df)\n"
   ]
  },
  {
   "cell_type": "code",
   "execution_count": 139,
   "id": "54435c3c-9b36-45be-80ae-10ef5af3b4a4",
   "metadata": {},
   "outputs": [
    {
     "name": "stdout",
     "output_type": "stream",
     "text": [
      "   OrderID  CustomerID Product  Quantity     Name     Location  Total_Quantity\n",
      "0        1         101       A         2    Alice     New York               2\n",
      "1        2         102       B         1      Bob  Los Angeles               1\n",
      "2        3         103       A         4  Charlie      Chicago               6\n",
      "4        5         101       B         3    Alice     New York               4\n"
     ]
    }
   ],
   "source": [
    "filtered_orders = merged_df[merged_df['Product'].isin(['A', 'B'])]\n",
    "print(filtered_orders)\n"
   ]
  },
  {
   "cell_type": "code",
   "execution_count": null,
   "id": "5b87ed8a-2de9-46f8-9bbc-4d696eae9ebe",
   "metadata": {},
   "outputs": [],
   "source": []
  }
 ],
 "metadata": {
  "kernelspec": {
   "display_name": "Python 3 (ipykernel)",
   "language": "python",
   "name": "python3"
  },
  "language_info": {
   "codemirror_mode": {
    "name": "ipython",
    "version": 3
   },
   "file_extension": ".py",
   "mimetype": "text/x-python",
   "name": "python",
   "nbconvert_exporter": "python",
   "pygments_lexer": "ipython3",
   "version": "3.12.4"
  }
 },
 "nbformat": 4,
 "nbformat_minor": 5
}
